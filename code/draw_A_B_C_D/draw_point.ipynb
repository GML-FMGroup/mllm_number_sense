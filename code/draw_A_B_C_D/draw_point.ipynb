{
 "cells": [
  {
   "cell_type": "code",
   "execution_count": 11,
   "metadata": {},
   "outputs": [],
   "source": [
    "import os\n",
    "import json\n",
    "import cv2\n",
    "file_dir = \"./test_image\"\n",
    "out_put_dir = \"./output_image\"\n",
    "# 获取目录中的所有 jpg 文件\n",
    "jpg_files = [f for f in os.listdir(file_dir) if f.endswith('.jpg')]\n",
    "# 字母标签\n",
    "labels = [\"A\", \"B\", \"C\", \"D\"]\n",
    "\n",
    "for jpg_file in jpg_files:\n",
    "    image_path = os.path.join(file_dir, jpg_file)\n",
    "    json_path = image_path.replace(\"jpg\", \"json\")\n",
    "    with open(json_path, \"r\") as f:\n",
    "        json_data = json.load(f)\n",
    "    annotations = json_data[\"shapes\"]\n",
    "    points = [annotation[\"points\"][0] for annotation in json_data[\"shapes\"]]\n",
    "    # 按横坐标（子列表的第一个值）排序\n",
    "    sorted_points = sorted(points, key=lambda x: x[0])\n",
    "    # 加载图像\n",
    "    image = cv2.imread(image_path)\n",
    "    # 在图像上绘制文字\n",
    "    for i, (x, y) in enumerate(sorted_points):\n",
    "        # 将浮点数坐标转换为整数\n",
    "        x, y = int(x), int(y)\n",
    "        # 绘制字母\n",
    "        cv2.putText(image, labels[i], (x, y), fontFace=cv2.FONT_HERSHEY_SIMPLEX, \n",
    "                    fontScale=1, color=(0, 0, 255), thickness=2)\n",
    "        # 保存结果图像\n",
    "    output_path = os.path.join(out_put_dir, jpg_file)\n",
    "    cv2.imwrite(output_path, image)\n",
    "\n",
    "\n"
   ]
  },
  {
   "cell_type": "code",
   "execution_count": null,
   "metadata": {},
   "outputs": [],
   "source": []
  }
 ],
 "metadata": {
  "kernelspec": {
   "display_name": "Python 3",
   "language": "python",
   "name": "python3"
  },
  "language_info": {
   "codemirror_mode": {
    "name": "ipython",
    "version": 3
   },
   "file_extension": ".py",
   "mimetype": "text/x-python",
   "name": "python",
   "nbconvert_exporter": "python",
   "pygments_lexer": "ipython3",
   "version": "3.10.6"
  }
 },
 "nbformat": 4,
 "nbformat_minor": 2
}
