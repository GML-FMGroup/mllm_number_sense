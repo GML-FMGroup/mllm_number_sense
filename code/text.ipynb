{
 "cells": [
  {
   "cell_type": "code",
   "execution_count": 2,
   "metadata": {},
   "outputs": [
    {
     "name": "stdout",
     "output_type": "stream",
     "text": [
      "Major category: Length\n",
      "  Option_num: 4, Count: 145\n",
      "Major category: Quantity\n",
      "  Option_num: 3, Count: 58\n",
      "  Option_num: 4, Count: 102\n",
      "Major category: Angle\n",
      "  Option_num: 4, Count: 174\n",
      "Major category: Volume\n",
      "  Option_num: 4, Count: 149\n",
      "  Option_num: 3, Count: 7\n",
      "Major category: Scale\n",
      "  Option_num: 4, Count: 197\n",
      "Major category: Depth\n",
      "  Option_num: 4, Count: 172\n"
     ]
    }
   ],
   "source": [
    "import json\n",
    "from collections import defaultdict, Counter\n",
    "json_file_path = r\"F:\\Number_Sense\\Only_data\\Real-World Dataset\\Real.json\"\n",
    "# json_file_path = r\"F:\\Number_Sense\\Only_data\\Synthetic Mathematical Dataset\\Synthetic.json\"\n",
    "\n",
    "# 初始化一个字典用于存储每个 Major_category 对应的 option_num 统计\n",
    "category_option_counts = defaultdict(Counter)\n",
    "\n",
    "# 读取 JSON 文件\n",
    "with open(json_file_path, 'r', encoding='utf-8') as file:\n",
    "    data = json.load(file)\n",
    "\n",
    "# 遍历数据，根据 Major_categories 分组并统计 option_num 的次数\n",
    "for item in data['data']:\n",
    "    major_category = item.get(\"Major_categories\", \"\")\n",
    "    option_num = item.get(\"option_num\", 0)\n",
    "    category_option_counts[major_category][option_num] += 1\n",
    "\n",
    "# 打印统计结果\n",
    "for category, counts in category_option_counts.items():\n",
    "    print(f\"Major category: {category}\")\n",
    "    for option_num, count in counts.items():\n",
    "        print(f\"  Option_num: {option_num}, Count: {count}\")\n"
   ]
  },
  {
   "cell_type": "code",
   "execution_count": 19,
   "metadata": {},
   "outputs": [
    {
     "name": "stdout",
     "output_type": "stream",
     "text": [
      "Major category: Length, Weighted Correct Probability: 0.2500\n",
      "Major category: Quantity, Weighted Correct Probability: 0.2802\n",
      "Major category: Angle, Weighted Correct Probability: 0.2500\n",
      "Major category: Volume, Weighted Correct Probability: 0.2537\n",
      "Major category: Scale, Weighted Correct Probability: 0.2500\n",
      "Major category: Depth, Weighted Correct Probability: 0.2500\n",
      "Overall Average Correct Probability: 0.2557\n"
     ]
    }
   ],
   "source": [
    "import json\n",
    "from collections import defaultdict, Counter\n",
    "\n",
    "# JSON 文件路径\n",
    "json_file_path = r\"F:\\Number_Sense\\Only_data\\Synthetic Mathematical Dataset\\Synthetic.json\"\n",
    "json_file_path = r\"F:\\Number_Sense\\Only_data\\Real-World Dataset\\Real.json\"\n",
    "\n",
    "# 初始化字典存储每个类别的统计信息\n",
    "category_option_counts = defaultdict(Counter)\n",
    "\n",
    "# 读取 JSON 文件\n",
    "with open(json_file_path, 'r', encoding='utf-8') as file:\n",
    "    data = json.load(file)\n",
    "\n",
    "# 统计每个类别中的 option_num 计数\n",
    "for item in data['data']:\n",
    "    major_category = item.get(\"Major_categories\", \"\")\n",
    "    option_num = item.get(\"option_num\", 0)\n",
    "    category_option_counts[major_category][option_num] += 1\n",
    "\n",
    "# 初始化变量用于计算总的加权答对概率\n",
    "total_weighted_probability = 0\n",
    "total_categories = 0\n",
    "\n",
    "# 计算并输出每个类别的加权答对概率\n",
    "for category, counts in category_option_counts.items():\n",
    "    total_items = sum(counts.values())  # 类别中的总题数\n",
    "    weighted_probability = 0\n",
    "\n",
    "    # 计算加权概率\n",
    "    for option_num, count in counts.items():\n",
    "        probability = 1 / option_num  # 答对的概率\n",
    "        weighted_probability += (probability * count) / total_items\n",
    "\n",
    "    # 输出每个类别的加权答对概率，保留四位小数\n",
    "    print(f\"Major category: {category}, Weighted Correct Probability: {weighted_probability:.4f}\")\n",
    "\n",
    "    # 累加总的加权概率和类别数量\n",
    "    total_weighted_probability += weighted_probability\n",
    "    total_categories += 1\n",
    "\n",
    "# 计算并输出总体的加权平均答对概率\n",
    "overall_average_probability = total_weighted_probability / total_categories if total_categories > 0 else 0\n",
    "print(f\"Overall Average Correct Probability: {overall_average_probability:.4f}\")\n"
   ]
  },
  {
   "cell_type": "code",
   "execution_count": null,
   "metadata": {},
   "outputs": [],
   "source": []
  }
 ],
 "metadata": {
  "kernelspec": {
   "display_name": "Python 3",
   "language": "python",
   "name": "python3"
  },
  "language_info": {
   "codemirror_mode": {
    "name": "ipython",
    "version": 3
   },
   "file_extension": ".py",
   "mimetype": "text/x-python",
   "name": "python",
   "nbconvert_exporter": "python",
   "pygments_lexer": "ipython3",
   "version": "3.10.6"
  }
 },
 "nbformat": 4,
 "nbformat_minor": 2
}
